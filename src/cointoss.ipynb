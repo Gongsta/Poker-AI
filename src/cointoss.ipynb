{
 "cells": [
  {
   "cell_type": "code",
   "execution_count": 65,
   "metadata": {},
   "outputs": [],
   "source": [
    "from cointoss import *\n",
    "import joblib"
   ]
  },
  {
   "cell_type": "code",
   "execution_count": 66,
   "metadata": {},
   "outputs": [],
   "source": [
    "infosets = joblib.load(\"cointoss.joblib\")"
   ]
  },
  {
   "cell_type": "code",
   "execution_count": 67,
   "metadata": {},
   "outputs": [
    {
     "name": "stdout",
     "output_type": "stream",
     "text": [
      "['Play']\n"
     ]
    }
   ],
   "source": [
    "hist = CoinTossHistory(history=[\"Heads\", \"Play\"])\n",
    "curr_infoset = hist.get_infoSet_key()\n",
    "print(curr_infoset)"
   ]
  },
  {
   "cell_type": "code",
   "execution_count": 70,
   "metadata": {},
   "outputs": [
    {
     "data": {
      "text/plain": [
       "{'Fold': 0.006666666666666667,\n",
       " 'Heads': 0.23003983540341086,\n",
       " 'Tails': 0.7632934979299224}"
      ]
     },
     "execution_count": 70,
     "metadata": {},
     "output_type": "execute_result"
    }
   ],
   "source": [
    "infosets[''.join(curr_infoset)].get_average_strategy()"
   ]
  },
  {
   "cell_type": "code",
   "execution_count": 30,
   "metadata": {},
   "outputs": [
    {
     "data": {
      "text/plain": [
       "['Heads', 'Tails']"
      ]
     },
     "execution_count": 30,
     "metadata": {},
     "output_type": "execute_result"
    }
   ],
   "source": [
    "initial_hist = CoinTossHistory()\n",
    "initial_hist.actions()"
   ]
  },
  {
   "cell_type": "markdown",
   "metadata": {},
   "source": [
    "### Subgame solving"
   ]
  },
  {
   "cell_type": "code",
   "execution_count": 46,
   "metadata": {},
   "outputs": [
    {
     "name": "stdout",
     "output_type": "stream",
     "text": [
      "Heads\n",
      "Tails\n"
     ]
    }
   ],
   "source": [
    "reach_prob = 1/ len(initial_hist.actions())\n",
    "probs = []\n",
    "subgames = []\n",
    "for chance_action in initial_hist.actions():\n",
    "    total_prob = 0\n",
    "    print(chance_action)\n",
    "    hist = CoinTossHistory(history=[chance_action])\n",
    "    probs.append(infosets[''.join(hist.get_infoSet_key())].get_average_strategy()['Play'])\n",
    "    subgames.append( CoinTossHistory(history=[chance_action, \"Play\"]))\n",
    "\n",
    "normalized_probs = [prob/sum(probs) for prob in probs]"
   ]
  },
  {
   "cell_type": "code",
   "execution_count": 64,
   "metadata": {},
   "outputs": [
    {
     "name": "stdout",
     "output_type": "stream",
     "text": [
      "['Heads', 'Play']\n",
      "1\n",
      "1\n",
      "['Tails', 'Play']\n",
      "1\n",
      "-1\n"
     ]
    }
   ],
   "source": [
    "for subgame in subgames:\n",
    "    print(subgame)\n",
    "    print(subgame.player())\n",
    "    print((subgame + \"Heads\").terminal_utility(subgame.player()))"
   ]
  },
  {
   "cell_type": "code",
   "execution_count": 40,
   "metadata": {},
   "outputs": [
    {
     "data": {
      "text/plain": [
       "{'Fold': 0.5020872031248307, 'Play': 0.4979127968751693}"
      ]
     },
     "execution_count": 40,
     "metadata": {},
     "output_type": "execute_result"
    }
   ],
   "source": [
    "infosets['Heads'].get_average_strategy()"
   ]
  },
  {
   "cell_type": "code",
   "execution_count": null,
   "metadata": {},
   "outputs": [],
   "source": []
  }
 ],
 "metadata": {
  "kernelspec": {
   "display_name": "poker-ai",
   "language": "python",
   "name": "python3"
  },
  "language_info": {
   "codemirror_mode": {
    "name": "ipython",
    "version": 3
   },
   "file_extension": ".py",
   "mimetype": "text/x-python",
   "name": "python",
   "nbconvert_exporter": "python",
   "pygments_lexer": "ipython3",
   "version": "3.10.12"
  }
 },
 "nbformat": 4,
 "nbformat_minor": 2
}
